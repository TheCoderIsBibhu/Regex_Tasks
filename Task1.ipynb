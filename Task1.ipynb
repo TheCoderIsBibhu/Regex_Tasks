{
  "nbformat": 4,
  "nbformat_minor": 0,
  "metadata": {
    "colab": {
      "name": "Untitled0.ipynb",
      "provenance": [],
      "collapsed_sections": [],
      "authorship_tag": "ABX9TyOUL6RF5A2cvPbveGG6j1P8",
      "include_colab_link": true
    },
    "kernelspec": {
      "name": "python3",
      "display_name": "Python 3"
    },
    "language_info": {
      "name": "python"
    }
  },
  "cells": [
    {
      "cell_type": "markdown",
      "metadata": {
        "id": "view-in-github",
        "colab_type": "text"
      },
      "source": [
        "<a href=\"https://colab.research.google.com/github/TheCoderIsBibhu/Regex_Tasks/blob/main/Untitled0.ipynb\" target=\"_parent\"><img src=\"https://colab.research.google.com/assets/colab-badge.svg\" alt=\"Open In Colab\"/></a>"
      ]
    },
    {
      "cell_type": "markdown",
      "metadata": {
        "id": "M0y3yxwC3rL2"
      },
      "source": [
        "##Task1\n",
        "Bibhudendu Dwibedi"
      ]
    },
    {
      "cell_type": "code",
      "metadata": {
        "colab": {
          "base_uri": "https://localhost:8080/"
        },
        "id": "SPJX52bBGAuV",
        "outputId": "30128fcb-0ae4-4956-fd71-feb1b1911c67"
      },
      "source": [
        "for i in range(5,0,-1):\n",
        "  print(\"5 \"*i)"
      ],
      "execution_count": 94,
      "outputs": [
        {
          "output_type": "stream",
          "name": "stdout",
          "text": [
            "5 5 5 5 5 \n",
            "5 5 5 5 \n",
            "5 5 5 \n",
            "5 5 \n",
            "5 \n"
          ]
        }
      ]
    },
    {
      "cell_type": "code",
      "metadata": {
        "colab": {
          "base_uri": "https://localhost:8080/"
        },
        "id": "47JQ03H0GHml",
        "outputId": "bc8be8a7-2611-4117-f4b6-2512af0116ee"
      },
      "source": [
        "for i in range(5):\n",
        "  for j in range(6-i):\n",
        "    print(j,end=\" \")\n",
        "  print(\"\\n\")"
      ],
      "execution_count": 95,
      "outputs": [
        {
          "output_type": "stream",
          "name": "stdout",
          "text": [
            "0 1 2 3 4 5 \n",
            "\n",
            "0 1 2 3 4 \n",
            "\n",
            "0 1 2 3 \n",
            "\n",
            "0 1 2 \n",
            "\n",
            "0 1 \n",
            "\n"
          ]
        }
      ]
    },
    {
      "cell_type": "code",
      "metadata": {
        "colab": {
          "base_uri": "https://localhost:8080/"
        },
        "id": "LV8I1PVtHYX5",
        "outputId": "45b826af-efc2-4bf9-f02a-d831739af354"
      },
      "source": [
        "j=-1\n",
        "for i in range(6):\n",
        "  print((str(j)+\" \")*i,end=\" \")\n",
        "  j+=2\n",
        "  print(\"\\n\")"
      ],
      "execution_count": 96,
      "outputs": [
        {
          "output_type": "stream",
          "name": "stdout",
          "text": [
            " \n",
            "\n",
            "1  \n",
            "\n",
            "3 3  \n",
            "\n",
            "5 5 5  \n",
            "\n",
            "7 7 7 7  \n",
            "\n",
            "9 9 9 9 9  \n",
            "\n"
          ]
        }
      ]
    },
    {
      "cell_type": "code",
      "metadata": {
        "colab": {
          "base_uri": "https://localhost:8080/"
        },
        "id": "v-fO4rFJINnh",
        "outputId": "1820592c-346c-4e63-85a2-718869aa05f5"
      },
      "source": [
        "for i in range(1,6):\n",
        "  for j in range(i,0,-1):\n",
        "    print(j,end=\" \")\n",
        "  print(\"\\n\")"
      ],
      "execution_count": 97,
      "outputs": [
        {
          "output_type": "stream",
          "name": "stdout",
          "text": [
            "1 \n",
            "\n",
            "2 1 \n",
            "\n",
            "3 2 1 \n",
            "\n",
            "4 3 2 1 \n",
            "\n",
            "5 4 3 2 1 \n",
            "\n"
          ]
        }
      ]
    },
    {
      "cell_type": "code",
      "metadata": {
        "colab": {
          "base_uri": "https://localhost:8080/"
        },
        "id": "8gza0A6sJn5n",
        "outputId": "bf8d183f-854c-4721-9c3d-05c1e3718638"
      },
      "source": [
        "k=1\n",
        "for i in range(1,6):\n",
        "  for j in range(1,i):\n",
        "    print(k,end=\" \")\n",
        "    k+=1\n",
        "  print(\"\\n\")"
      ],
      "execution_count": 98,
      "outputs": [
        {
          "output_type": "stream",
          "name": "stdout",
          "text": [
            "\n",
            "\n",
            "1 \n",
            "\n",
            "2 3 \n",
            "\n",
            "4 5 6 \n",
            "\n",
            "7 8 9 10 \n",
            "\n"
          ]
        }
      ]
    },
    {
      "cell_type": "code",
      "metadata": {
        "colab": {
          "base_uri": "https://localhost:8080/"
        },
        "id": "GVZq0qSnKQXQ",
        "outputId": "e60a96f0-8177-4fdc-a489-dbdb5e20cb11"
      },
      "source": [
        "for i in range(7):\n",
        "  print(11**i)"
      ],
      "execution_count": 99,
      "outputs": [
        {
          "output_type": "stream",
          "name": "stdout",
          "text": [
            "1\n",
            "11\n",
            "121\n",
            "1331\n",
            "14641\n",
            "161051\n",
            "1771561\n"
          ]
        }
      ]
    },
    {
      "cell_type": "code",
      "metadata": {
        "id": "1I6oveGUNLdT",
        "colab": {
          "base_uri": "https://localhost:8080/"
        },
        "outputId": "7681aafa-76ac-44fa-f373-8cc54bb63180"
      },
      "source": [
        "for i in range(1,6):\n",
        "  for j in range(1,6):\n",
        "    if(i>j): print(i,end=\" \")\n",
        "    else: print(j,end=\" \")\n",
        "  print(\"\\n\")\n",
        "    "
      ],
      "execution_count": 100,
      "outputs": [
        {
          "output_type": "stream",
          "name": "stdout",
          "text": [
            "1 2 3 4 5 \n",
            "\n",
            "2 2 3 4 5 \n",
            "\n",
            "3 3 3 4 5 \n",
            "\n",
            "4 4 4 4 5 \n",
            "\n",
            "5 5 5 5 5 \n",
            "\n"
          ]
        }
      ]
    },
    {
      "cell_type": "code",
      "metadata": {
        "colab": {
          "base_uri": "https://localhost:8080/"
        },
        "id": "u5J691YxgHzH",
        "outputId": "2a023dfb-ad65-47a1-d657-30d79f23dddc"
      },
      "source": [
        "for i in range(1,9):\n",
        "  for j in range(1,i+1):\n",
        "    print(i*j,end=\" \")\n",
        "  print(\"\\n\")"
      ],
      "execution_count": 101,
      "outputs": [
        {
          "output_type": "stream",
          "name": "stdout",
          "text": [
            "1 \n",
            "\n",
            "2 4 \n",
            "\n",
            "3 6 9 \n",
            "\n",
            "4 8 12 16 \n",
            "\n",
            "5 10 15 20 25 \n",
            "\n",
            "6 12 18 24 30 36 \n",
            "\n",
            "7 14 21 28 35 42 49 \n",
            "\n",
            "8 16 24 32 40 48 56 64 \n",
            "\n"
          ]
        }
      ]
    },
    {
      "cell_type": "code",
      "metadata": {
        "colab": {
          "base_uri": "https://localhost:8080/"
        },
        "id": "dsexRvyjgzVr",
        "outputId": "0e3b293f-219a-4562-be1d-3d75715fc3a3"
      },
      "source": [
        "r=5\n",
        "k=r-2\n",
        "for i in range(r, -1 , -1):  \n",
        "    for j in range(k , 0 , -1):  \n",
        "        print(end=\" \")  \n",
        "    k = k + 1  \n",
        "    for j in range(0, i+1):  \n",
        "        print(\"* \" , end=\"\")  \n",
        "    print()\n",
        "  \n",
        "  "
      ],
      "execution_count": 102,
      "outputs": [
        {
          "output_type": "stream",
          "name": "stdout",
          "text": [
            "   * * * * * * \n",
            "    * * * * * \n",
            "     * * * * \n",
            "      * * * \n",
            "       * * \n",
            "        * \n"
          ]
        }
      ]
    },
    {
      "cell_type": "code",
      "metadata": {
        "colab": {
          "base_uri": "https://localhost:8080/"
        },
        "id": "OOia1kOShYuI",
        "outputId": "bf8ca260-3019-47cc-f875-90e755c20a30"
      },
      "source": [
        "r=5\n",
        "k=2*r-2\n",
        "for i in range(0,r):  \n",
        "    for j in range(0 , k):  \n",
        "        print(end=\"\")  \n",
        "    k = k - 1  \n",
        "    for j in range(0, i + 1):  \n",
        "        print(\"* \", end=\"\")  \n",
        "    print(\"\") \n",
        "  "
      ],
      "execution_count": 103,
      "outputs": [
        {
          "output_type": "stream",
          "name": "stdout",
          "text": [
            "* \n",
            "* * \n",
            "* * * \n",
            "* * * * \n",
            "* * * * * \n"
          ]
        }
      ]
    },
    {
      "cell_type": "code",
      "metadata": {
        "colab": {
          "base_uri": "https://localhost:8080/"
        },
        "id": "fKSYFGAMjiKc",
        "outputId": "65b075e1-af41-4c3e-836e-d57a64efa805"
      },
      "source": [
        "rows=6\n",
        "for i in range(0, rows):    \n",
        "    for j in range(0, i + 1):  \n",
        "        print(\"*\", end=' ')  \n",
        "    print(\" \")  \n",
        "print(\"\\n\")\n",
        "for i in range(rows + 1, 0, -1):  \n",
        "    for j in range(0, i - 1):  \n",
        "        print(\"*\", end=' ')  \n",
        "    print(\" \")  "
      ],
      "execution_count": 104,
      "outputs": [
        {
          "output_type": "stream",
          "name": "stdout",
          "text": [
            "*  \n",
            "* *  \n",
            "* * *  \n",
            "* * * *  \n",
            "* * * * *  \n",
            "* * * * * *  \n",
            "\n",
            "\n",
            "* * * * * *  \n",
            "* * * * *  \n",
            "* * * *  \n",
            "* * *  \n",
            "* *  \n",
            "*  \n",
            " \n"
          ]
        }
      ]
    },
    {
      "cell_type": "code",
      "metadata": {
        "colab": {
          "base_uri": "https://localhost:8080/"
        },
        "id": "8n0RSrSbkkkm",
        "outputId": "55955a87-8c7c-4d1a-f027-66ad9a1f1544"
      },
      "source": [
        "rows=5\n",
        "for i in range(0, rows):  \n",
        "    for j in range(0, i + 1):  \n",
        "        print(\"*\", end=' ')  \n",
        "    print(\" \")  \n",
        "for i in range(rows, 0, -1):  \n",
        "    for j in range(0, i - 1):  \n",
        "        print(\"*\", end=' ')  \n",
        "    print(\" \")  "
      ],
      "execution_count": 105,
      "outputs": [
        {
          "output_type": "stream",
          "name": "stdout",
          "text": [
            "*  \n",
            "* *  \n",
            "* * *  \n",
            "* * * *  \n",
            "* * * * *  \n",
            "* * * *  \n",
            "* * *  \n",
            "* *  \n",
            "*  \n",
            " \n"
          ]
        }
      ]
    },
    {
      "cell_type": "code",
      "metadata": {
        "colab": {
          "base_uri": "https://localhost:8080/"
        },
        "id": "O9Bo7o_8k3oE",
        "outputId": "c3ea5c18-95b5-438f-8676-52abff7918db"
      },
      "source": [
        "rows=5\n",
        "k = 2 * rows - 2  \n",
        "for i in range(0, rows):  \n",
        "    for j in range(0, k):  \n",
        "        print(end=\" \")  \n",
        "    k = k - 2     \n",
        "    for j in range(0, i + 1):  \n",
        "        print(\"* \", end=\"\")    \n",
        "    print(\"\")"
      ],
      "execution_count": 106,
      "outputs": [
        {
          "output_type": "stream",
          "name": "stdout",
          "text": [
            "        * \n",
            "      * * \n",
            "    * * * \n",
            "  * * * * \n",
            "* * * * * \n"
          ]
        }
      ]
    },
    {
      "cell_type": "code",
      "metadata": {
        "colab": {
          "base_uri": "https://localhost:8080/"
        },
        "id": "VEHH4zUjlvbJ",
        "outputId": "b6bf1b04-cf7f-45b3-afc9-f1edad45267a"
      },
      "source": [
        "\n",
        "rows=5\n",
        "k = 2 * rows - 2  \n",
        "for i in range(rows, -1, -1):  \n",
        "    for j in range(k, 0, -1):  \n",
        "        print(end=\" \")  \n",
        "    k = k + 1  \n",
        "    for j in range(0, i + 1):  \n",
        "        print(\"*\", end=\" \")  \n",
        "    print(\"\")\n",
        " \n",
        "\n"
      ],
      "execution_count": 107,
      "outputs": [
        {
          "output_type": "stream",
          "name": "stdout",
          "text": [
            "        * * * * * * \n",
            "         * * * * * \n",
            "          * * * * \n",
            "           * * * \n",
            "            * * \n",
            "             * \n"
          ]
        }
      ]
    },
    {
      "cell_type": "code",
      "metadata": {
        "colab": {
          "base_uri": "https://localhost:8080/"
        },
        "id": "ZQMfy0xJtC3J",
        "outputId": "64150dfe-bc09-4dbd-b906-ea58022233f9"
      },
      "source": [
        "k=16\n",
        "for i in range(0,k//2):\n",
        "  for j in range(1,k+1):\n",
        "    if(j<k//2-i or j>k//2+i):\n",
        "      print(\"*\",end=\"\")\n",
        "    else:\n",
        "      print(\"_\",end=\"\")\n",
        "  print()"
      ],
      "execution_count": 108,
      "outputs": [
        {
          "output_type": "stream",
          "name": "stdout",
          "text": [
            "*******_********\n",
            "******___*******\n",
            "*****_____******\n",
            "****_______*****\n",
            "***_________****\n",
            "**___________***\n",
            "*_____________**\n",
            "_______________*\n"
          ]
        }
      ]
    },
    {
      "cell_type": "code",
      "metadata": {
        "colab": {
          "base_uri": "https://localhost:8080/"
        },
        "id": "bgVrouM8qlq2",
        "outputId": "8a92337c-2d76-4ad3-e410-e4b5170c8d6c"
      },
      "source": [
        ""
      ],
      "execution_count": null,
      "outputs": [
        {
          "output_type": "stream",
          "name": "stdout",
          "text": [
            "****************\n",
            "*******__*******\n",
            "******____******\n",
            "*****______*****\n",
            "****________****\n",
            "***__________***\n",
            "**____________**\n",
            "*______________*\n"
          ]
        }
      ]
    }
  ]
}
